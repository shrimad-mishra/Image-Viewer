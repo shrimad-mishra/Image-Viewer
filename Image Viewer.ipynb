{
 "cells": [
  {
   "cell_type": "code",
   "execution_count": 53,
   "metadata": {},
   "outputs": [],
   "source": [
    "# importink  the required modules\n",
    "\n",
    "from tkinter import *\n",
    "from tkinter import filedialog\n",
    "from PIL import ImageTk, Image\n",
    "from tkinter import messagebox "
   ]
  },
  {
   "cell_type": "code",
   "execution_count": 66,
   "metadata": {},
   "outputs": [],
   "source": [
    "windows = Tk() \n",
    "\n",
    "windows.title(\"Image Loader\") \n",
    "windows.geometry(\"500x500\")  \n",
    "windows.resizable(width = True, height = True) \n",
    "\n",
    "def open():\n",
    "    filename = filedialog.askopenfilename()\n",
    "    try:\n",
    "        img = Image.open(filename)\n",
    "        wid , hei = img.size\n",
    "        img = img.resize((wid, hei), Image.ANTIALIAS) \n",
    "        img = ImageTk.PhotoImage(img) \n",
    "        panel = Label(windows, image = img) \n",
    "        panel.image = img \n",
    "        panel.grid(row = 2) \n",
    " \n",
    "    except:\n",
    "        messagebox.showerror(windows, \"Error\") \n",
    "\n",
    "    \n",
    "button = Button(windows,text=\"Open\",command = open)\n",
    "button.grid(row = 10)\n",
    "\n",
    "windows.mainloop()"
   ]
  },
  {
   "cell_type": "code",
   "execution_count": null,
   "metadata": {},
   "outputs": [],
   "source": []
  }
 ],
 "metadata": {
  "kernelspec": {
   "display_name": "Python 3",
   "language": "python",
   "name": "python3"
  },
  "language_info": {
   "codemirror_mode": {
    "name": "ipython",
    "version": 3
   },
   "file_extension": ".py",
   "mimetype": "text/x-python",
   "name": "python",
   "nbconvert_exporter": "python",
   "pygments_lexer": "ipython3",
   "version": "3.8.3"
  }
 },
 "nbformat": 4,
 "nbformat_minor": 4
}
